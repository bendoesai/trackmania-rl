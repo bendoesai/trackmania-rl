{
 "cells": [
  {
   "cell_type": "code",
   "execution_count": 601,
   "metadata": {},
   "outputs": [],
   "source": [
    "from tmrl import get_environment\n",
    "from time import sleep\n",
    "from math import floor, sqrt\n",
    "#from tmrl.custom.custom_models import conv2d_out_dims, num_flat_features, mlp\n",
    "import numpy as np\n",
    "\n",
    "import torch\n",
    "import torch.nn as nn\n",
    "import torch.nn.functional as F\n",
    "import torch.optim as optim\n",
    "import tmrl.config.config_constants as cfg\n",
    "from collections import deque, namedtuple\n",
    "\n",
    "import random\n"
   ]
  },
  {
   "cell_type": "markdown",
   "metadata": {},
   "source": [
    "Hyperparameters and Device"
   ]
  },
  {
   "cell_type": "code",
   "execution_count": 602,
   "metadata": {},
   "outputs": [
    {
     "name": "stdout",
     "output_type": "stream",
     "text": [
      "cuda:0\n"
     ]
    }
   ],
   "source": [
    "BUFFER_SIZE = int(1e5)  # replay buffer size\n",
    "BATCH_SIZE = 64         # minibatch size\n",
    "GAMMA = 0.99            # discount factor\n",
    "TAU = 1e-3              # for soft update of target parameters\n",
    "LR = 5e-4               # learning rate \n",
    "UPDATE_EVERY = 4        # how often to update the network\n",
    "device = torch.device(\"cuda:0\" if torch.cuda.is_available() else \"cpu\")\n",
    "print(device)"
   ]
  },
  {
   "cell_type": "markdown",
   "metadata": {},
   "source": [
    "CNN Model for Training"
   ]
  },
  {
   "cell_type": "code",
   "execution_count": 603,
   "metadata": {},
   "outputs": [],
   "source": [
    "# Model paramters\n",
    "image_height = 64  #height of images\n",
    "image_width = 64   #width of images\n",
    "num_images = 4  #number of images (tmrl returns 4 to us)\n",
    "keep_prob = 0.5     "
   ]
  },
  {
   "cell_type": "markdown",
   "metadata": {},
   "source": [
    "# Critic (takes state and actions)"
   ]
  },
  {
   "cell_type": "code",
   "execution_count": 604,
   "metadata": {},
   "outputs": [],
   "source": [
    "class CNN_Trackmania_Critic(nn.Module):\n",
    "    def __init__(self, seed):\n",
    "        super(CNN_Trackmania_Critic, self).__init__()\n",
    "\n",
    "        self.IMAGE_HEIGHT = image_height\n",
    "        self.IMAGE_WIDTH = image_width\n",
    "        self.keep_prob = keep_prob\n",
    "        self.seed = torch.manual_seed(seed)\n",
    "\n",
    "        # convolutional layers\n",
    "        self.conv1 = nn.Conv2d(num_images, 24, kernel_size=8, stride=2)\n",
    "        self.conv2 = nn.Conv2d(24, 36, kernel_size=4, stride=2)\n",
    "        self.conv3 = nn.Conv2d(36, 48, kernel_size=4, stride=2)\n",
    "        self.conv4 = nn.Conv2d(48, 64, kernel_size=4, stride=2)\n",
    "\n",
    "        # dropout layer\n",
    "        self.dropout = nn.Dropout(keep_prob)\n",
    "\n",
    "        # fully-connected layers, add 3 more for action\n",
    "        self.fc1 = nn.Linear(64 * 1 * 1 + 12, 256)\n",
    "        self.fc2 = nn.Linear(256, 100)\n",
    "        self.fc3 = nn.Linear(100, 10)\n",
    "        self.fc4 = nn.Linear(10, 3)\n",
    "\n",
    "    def forward(self, x, action):\n",
    "        speed, gear, rpm, images, act1, act2 = x\n",
    "        images = torch.from_numpy(images).float().to(device)\n",
    "        speed = torch.from_numpy(speed).to(device)\n",
    "        gear = torch.from_numpy(gear).to(device)\n",
    "        rpm = torch.from_numpy(rpm).to(device)\n",
    "        act1 = torch.from_numpy(act1).to(device)\n",
    "        act2 = torch.from_numpy(act2).to(device)\n",
    "        #print(action)\n",
    "        action = torch.from_numpy(action).float().to(device)\n",
    "\n",
    "        x = F.elu(self.conv1(images))\n",
    "        x = F.elu(self.conv2(x))\n",
    "        x = F.elu(self.conv3(x))\n",
    "        x = F.elu(self.conv4(x))\n",
    "\n",
    "        #x = self.dropout(x)\n",
    "\n",
    "        x = x.view(-1)\n",
    "        act1 = act1.view(-1)\n",
    "        act2 = act2.view(-1)\n",
    "        action = action.view(-1)\n",
    "        #print(x.size())\n",
    "        x = torch.cat((speed, gear, rpm, x, act1, act2, action), -1)\n",
    "        x = F.elu(self.fc1(x))\n",
    "        x = F.elu(self.fc2(x))\n",
    "        x = F.elu(self.fc3(x))\n",
    "        x = self.fc4(x)\n",
    "\n",
    "        return x"
   ]
  },
  {
   "cell_type": "markdown",
   "metadata": {},
   "source": [
    "# Actor (takes only state)"
   ]
  },
  {
   "cell_type": "code",
   "execution_count": 605,
   "metadata": {},
   "outputs": [],
   "source": [
    "class CNN_Trackmania_Actor(nn.Module):\n",
    "    def __init__(self, seed):\n",
    "        super(CNN_Trackmania_Actor, self).__init__()\n",
    "\n",
    "        self.IMAGE_HEIGHT = image_height\n",
    "        self.IMAGE_WIDTH = image_width\n",
    "        self.keep_prob = keep_prob\n",
    "        self.seed = torch.manual_seed(seed)\n",
    "\n",
    "        # convolutional layers\n",
    "        self.conv1 = nn.Conv2d(num_images, 24, kernel_size=8, stride=2)\n",
    "        self.conv2 = nn.Conv2d(24, 36, kernel_size=4, stride=2)\n",
    "        self.conv3 = nn.Conv2d(36, 48, kernel_size=4, stride=2)\n",
    "        self.conv4 = nn.Conv2d(48, 64, kernel_size=4, stride=2)\n",
    "\n",
    "        # dropout layer\n",
    "        self.dropout = nn.Dropout(keep_prob)\n",
    "\n",
    "        # fully-connected layers\n",
    "        self.fc1 = nn.Linear(64 * 1 * 1 + 9, 256)\n",
    "        self.fc2 = nn.Linear(256, 100)\n",
    "        self.fc3 = nn.Linear(100, 10)\n",
    "        self.fc4 = nn.Linear(10, 3)\n",
    "\n",
    "    def forward(self, x):\n",
    "        speed, gear, rpm, images, act1, act2 = x\n",
    "        images = torch.from_numpy(images).float().to(device)\n",
    "        speed = torch.from_numpy(speed).to(device)\n",
    "        gear = torch.from_numpy(gear).to(device)\n",
    "        rpm = torch.from_numpy(rpm).to(device)\n",
    "        act1 = torch.from_numpy(act1).to(device)\n",
    "        act2 = torch.from_numpy(act2).to(device)\n",
    "\n",
    "        x = F.elu(self.conv1(images))\n",
    "        x = F.elu(self.conv2(x))\n",
    "        x = F.elu(self.conv3(x))\n",
    "        x = F.elu(self.conv4(x))\n",
    "\n",
    "        #x = self.dropout(x)\n",
    "\n",
    "        x = x.view(-1)\n",
    "        act1 = act1.view(-1)\n",
    "        act2 = act2.view(-1)\n",
    "\n",
    "        #print(x.size())\n",
    "        x = torch.cat((speed, gear, rpm, x, act1, act2), -1)\n",
    "        x = F.elu(self.fc1(x))\n",
    "        x = F.elu(self.fc2(x))\n",
    "        x = F.elu(self.fc3(x))\n",
    "        x = self.fc4(x)\n",
    "\n",
    "        return x"
   ]
  },
  {
   "cell_type": "code",
   "execution_count": 606,
   "metadata": {},
   "outputs": [],
   "source": [
    "class ReplayBuffer:\n",
    "    \"\"\"Fixed-size buffer to store experience tuples.\"\"\"\n",
    "\n",
    "    def __init__(self, action_size, buffer_size, batch_size, seed):\n",
    "        \"\"\"Initialize a ReplayBuffer object.\n",
    "\n",
    "        Params\n",
    "        ======\n",
    "            action_size (int): dimension of each action\n",
    "            buffer_size (int): maximum size of buffer\n",
    "            batch_size (int): size of each training batch\n",
    "            seed (int): random seed\n",
    "        \"\"\"\n",
    "        self.action_size = action_size\n",
    "        self.memory = deque(maxlen=buffer_size)  \n",
    "        self.batch_size = batch_size\n",
    "        self.experience = namedtuple(\"Experience\", field_names=[\"state\", \"action\", \"reward\", \"next_state\", \"done\"])\n",
    "        self.seed = random.seed(seed)\n",
    "    \n",
    "    def add(self, state, action, reward, next_state, done):\n",
    "        \"\"\"Add a new experience to memory.\"\"\"\n",
    "        e = self.experience(state, action, reward, next_state, done)\n",
    "        self.memory.append(e)\n",
    "    \n",
    "    def sample(self):\n",
    "        \"\"\"Randomly sample a batch of experiences from memory.\"\"\"\n",
    "        experiences = random.sample(self.memory, k=self.batch_size)\n",
    "\n",
    "        states = np.vstack([e.state for e in experiences if e is not None])\n",
    "        actions = np.vstack([e.action for e in experiences if e is not None])\n",
    "        rewards = torch.from_numpy(np.vstack([e.reward for e in experiences if e is not None])).float().to(device)\n",
    "        next_states = np.vstack([e.next_state for e in experiences if e is not None])\n",
    "        dones = torch.from_numpy(np.vstack([e.done for e in experiences if e is not None]).astype(np.uint8)).float().to(device)\n",
    "  \n",
    "        return (states, actions, rewards, next_states, dones)\n",
    "\n",
    "    def __len__(self):\n",
    "        \"\"\"Return the current size of internal memory.\"\"\"\n",
    "        return len(self.memory)"
   ]
  },
  {
   "cell_type": "markdown",
   "metadata": {},
   "source": [
    "Agent - Used from HW7 for a DeepQNetwork"
   ]
  },
  {
   "cell_type": "code",
   "execution_count": 607,
   "metadata": {},
   "outputs": [],
   "source": [
    "class CNNAgent():\n",
    "    \"\"\"Interacts with and learns from the environment.\"\"\"\n",
    "\n",
    "    def __init__(self, state_size, action_size, seed):\n",
    "        \"\"\"Initialize an Agent object.\n",
    "        \n",
    "        Params\n",
    "        ======\n",
    "            state_size (int): dimension of each state\n",
    "            action_size (int): dimension of each action\n",
    "            seed (int): random seed\n",
    "        \"\"\"\n",
    "        self.state_size = state_size\n",
    "        self.action_size = action_size\n",
    "        self.seed = random.seed(seed)\n",
    "\n",
    "        # Actor and critic\n",
    "        self.actor = CNN_Trackmania_Actor(seed).to(device)\n",
    "        self.actor_target = CNN_Trackmania_Actor(seed).to(device)\n",
    "        self.actor_optimizer = optim.Adam(self.actor.parameters(), lr=LR)\n",
    "\n",
    "        # critic\n",
    "        self.critic = CNN_Trackmania_Critic(seed).to(device)\n",
    "        self.critic_target = CNN_Trackmania_Critic(seed).to(device)\n",
    "        self.critic_optimizer = optim.Adam(self.critic.parameters(), lr=LR)\n",
    "\n",
    "        # Replay memory\n",
    "        self.memory = ReplayBuffer(action_size, BUFFER_SIZE, BATCH_SIZE, seed)\n",
    "        # Initialize time step (for updating every UPDATE_EVERY steps)\n",
    "        self.t_step = 0\n",
    "    \n",
    "    def step(self, state, action, reward, next_state, done):\n",
    "        # Save experience in replay memory\n",
    "        self.memory.add(state, action, reward, next_state, done)\n",
    "        \n",
    "        '''stop coding here'''\n",
    "        # Learn every UPDATE_EVERY time steps.\n",
    "        self.t_step = (self.t_step + 1) % UPDATE_EVERY\n",
    "        if self.t_step == 0:\n",
    "            # If enough samples are available in memory, get random subset and learn\n",
    "            if len(self.memory) > BATCH_SIZE:\n",
    "                experiences = self.memory.sample()\n",
    "                self.learn(experiences, GAMMA)\n",
    "\n",
    "    def act(self, state, eps=0.):\n",
    "        \"\"\"Returns actions for given state as per current policy.\n",
    "        \n",
    "        Params\n",
    "        ======\n",
    "            state (array_like): current state\n",
    "            eps (float): epsilon, for epsilon-greedy action selection\n",
    "        \"\"\"\n",
    "        #state = torch.from_numpy(state).unsqueeze(0).to(device)\n",
    "        self.actor.eval()\n",
    "        with torch.no_grad():\n",
    "            action_values = self.actor.forward(state)\n",
    "        self.actor.train()\n",
    "\n",
    "        # Epsilon-greedy action selection\n",
    "        if random.random() > eps:\n",
    "            return action_values.cpu().detach().numpy()\n",
    "        else:\n",
    "            return [random.uniform(-1,1),random.uniform(-1,1),random.uniform(-1,1)]\n",
    "\n",
    "    def learn(self, experiences, gamma):\n",
    "        \"\"\"Update value parameters using given batch of experience tuples.\n",
    "\n",
    "        Params\n",
    "        ======\n",
    "            experiences (Tuple[torch.Variable]): tuple of (s, a, r, s', done) tuples \n",
    "            gamma (float): discount factor\n",
    "        \"\"\"\n",
    "        # Obtain random minibatch of tuples from D\n",
    "        \n",
    "        ## Compute and minimize the loss\n",
    "        ### Extract next maximum estimated value from target network\n",
    "        #print(\"learning\")\n",
    "        #print(experiences)\n",
    "        #Experiences[0] = state experiences[1] = state\n",
    "        q_targets_next = []\n",
    "        q_currents = []\n",
    "        q_critics = []\n",
    "        states, actions, rewards, nexts, dones = experiences[0], experiences[1], experiences[2], experiences[3], experiences[4]\n",
    "        for i in range(BATCH_SIZE): #compute Q loss for critic (state has actions already in it, actor ignores the actions)\n",
    "            state_e, action_e, reward_e, next_e, done_e = states[i], actions[i], rewards[i], nexts[i], dones[i]\n",
    "            #state_e = e[0]\n",
    "            #action_e = e[1]\n",
    "            #reward_e = e[2]\n",
    "            #next_e = e[3]\n",
    "            #done_e = e[4]\n",
    "            #print(\"q target\")\n",
    "            \n",
    "            q_target_next = self.critic(next_e, self.actor_target(next_e).detach().cpu().numpy()).detach().cpu().unsqueeze(1).numpy()\n",
    "            #print(\"action_e\")\n",
    "            #print(action_e)\n",
    "            q_target_next = reward_e.item() +(gamma * q_target_next[0].item())*(1-done_e.item())\n",
    "            q_current = self.critic(state_e, action_e).detach().cpu().numpy()\n",
    "\n",
    "            q_targets_next.append(q_target_next)\n",
    "            q_currents.append(q_current[0].item())\n",
    "\n",
    "            #calculate actor loss as average Q value from critic network (critic rates the actor)\n",
    "            q_critic = self.critic(state_e, self.actor(state_e).detach().cpu().numpy()).detach().cpu().unsqueeze(1).numpy()\n",
    "            q_critic = q_critic[0].item()\n",
    "            q_critics.append(q_critic)\n",
    "        critic_loss = F.mse_loss(torch.from_numpy(np.array(q_targets_next)),torch.from_numpy(np.array(q_currents))) \n",
    "        self.critic_optimizer.zero_grad()\n",
    "        critic_loss.requires_grad = True\n",
    "        critic_loss.backward()\n",
    "        self.critic_optimizer.step() \n",
    "        \n",
    "        actor_loss = -np.average(np.array(q_critic))\n",
    "        actor_loss = torch.tensor(actor_loss)\n",
    "        self.actor_optimizer.zero_grad()\n",
    "        actor_loss.requires_grad = True\n",
    "        actor_loss.backward()\n",
    "        self.actor_optimizer.step()\n",
    "\n",
    "        # ------------------- update target network ------------------- #\n",
    "        self.soft_update(TAU)                     \n",
    "\n",
    "    def soft_update(self,tau):\n",
    "        \"\"\"Soft update model parameters.\n",
    "        θ_target = τ*θ_local + (1 - τ)*θ_target\n",
    "        Modified to update both actor and critic\n",
    "        Params\n",
    "        ======\n",
    "            local_model (PyTorch model): weights will be copied from\n",
    "            target_model (PyTorch model): weights will be copied to\n",
    "            tau (float): interpolation parameter \n",
    "        \"\"\"\n",
    "        for param, target_param in zip(self.critic.parameters(), self.critic_target.parameters()):\n",
    "                target_param.data.copy_(tau * param.data + (1 - tau) * target_param.data)\n",
    "\n",
    "        for param, target_param in zip(self.actor.parameters(), self.actor_target.parameters()):\n",
    "            target_param.data.copy_(tau * param.data + (1 - tau) * target_param.data)"
   ]
  },
  {
   "cell_type": "code",
   "execution_count": 608,
   "metadata": {},
   "outputs": [
    {
     "name": "stdout",
     "output_type": "stream",
     "text": [
      "0: [ 0.51590881 -0.15885684 -0.4821665 ]\n",
      "1: [-0.19013173  0.56759718 -0.39337455]\n",
      "2: [0.16676408 0.81622577 0.00937371]\n",
      "3: [ 0.51160841  0.23673799 -0.49898732]\n",
      "4: [0.96557095 0.62043447 0.8043319 ]\n",
      "5: [0.4596635  0.79767658 0.36796786]\n",
      "6: [-0.79859758 -0.13165633  0.22177395]\n",
      "7: [ 0.93321274 -0.04598045  0.73061986]\n"
     ]
    },
    {
     "name": "stderr",
     "output_type": "stream",
     "text": [
      "c:\\Users\\Chris\\AppData\\Local\\Programs\\Python\\Python37\\lib\\site-packages\\rtgym\\envs\\real_time_env.py:379: UserWarning: Time-step timed out. Elapsed since last time-step: 0.05256540000482346\n",
      "  warnings.warn(f\"Time-step timed out. Elapsed since last time-step: {now - self.__t_end}\")\n"
     ]
    },
    {
     "name": "stdout",
     "output_type": "stream",
     "text": [
      "8: [ 0.61005565  0.09739861 -0.9719166 ]\n",
      "9: [-0.20235292  0.64968995  0.3363064 ]\n",
      "10: [-0.01284427  0.73520555 -0.51217825]\n",
      "11: [ 0.74094246 -0.61786582  0.13502148]\n",
      "12: [ 0.9350805   0.60635894 -0.10406086]\n",
      "13: [-0.35989079  0.01588129  0.86566765]\n",
      "14: [0.10253449 0.41312282 0.09488182]\n",
      "15: [0.08056721 0.92767709 0.20637126]\n",
      "16: [-0.11002195  0.19257372 -0.23019771]\n",
      "17: [-0.419341   -0.62121734 -0.62654094]\n",
      "18: [ 0.31331878 -0.04693802 -0.82035128]\n",
      "19: [0.75354074 0.84676203 0.68492045]\n",
      "20: [ 0.84616488  0.08119985 -0.2174079 ]\n",
      "21: [-0.44873176  0.62325742  0.69897193]\n",
      "22: [0.17960237 0.89952975 0.15939002]\n",
      "23: [0.32049076 0.99251568 0.83388244]\n",
      "24: [-0.83525402  0.22556621 -0.0271116 ]\n",
      "25: [ 0.69015515 -0.51392876  0.46297844]\n",
      "26: [-0.55907893  0.58916594 -0.3349277 ]\n",
      "27: [-0.79878496 -0.70728302  0.39534128]\n",
      "28: [0.14773207 0.82003203 0.06839594]\n",
      "29: [-0.94660641  0.26999982  0.21267684]\n",
      "30: [-0.21758118 -0.25972012  0.9610333 ]\n",
      "31: [-0.95672698  0.92206256 -0.63005612]\n",
      "32: [-0.57884698  0.60149318  0.87393832]\n",
      "33: [-0.14876234 -0.79699956 -0.48016022]\n",
      "34: [ 0.29385144 -0.29941207 -0.6393642 ]\n",
      "35: [-0.92124259 -0.79815752  0.9764703 ]\n",
      "36: [-0.2828894   0.46319661  0.67665313]\n",
      "37: [-0.66115079  0.34528113  0.93309781]\n",
      "38: [ 0.35240357  0.69084919 -0.31537492]\n",
      "39: [ 0.19358279 -0.11537193 -0.65036103]\n",
      "40: [-0.18018921  0.13822548  0.01720026]\n",
      "41: [-0.28569663  0.67532235 -0.49813467]\n",
      "42: [-0.97512736  0.48314875 -0.32816689]\n",
      "43: [-0.43823367 -0.51973918  0.90625868]\n",
      "44: [-0.42424417 -0.28159761  0.89381167]\n",
      "45: [ 0.24215369  0.4312387  -0.22396553]\n",
      "46: [ 0.30166572 -0.99695156 -0.61538092]\n",
      "47: [-0.52116808  0.2747988  -0.24270386]\n",
      "48: [ 0.13630284 -0.17118721 -0.19546585]\n",
      "49: [-0.16354689  0.32439178 -0.90644063]\n"
     ]
    },
    {
     "name": "stderr",
     "output_type": "stream",
     "text": [
      "c:\\Users\\Chris\\AppData\\Local\\Programs\\Python\\Python37\\lib\\site-packages\\rtgym\\envs\\real_time_env.py:379: UserWarning: Time-step timed out. Elapsed since last time-step: 0.052225800031010294\n",
      "  warnings.warn(f\"Time-step timed out. Elapsed since last time-step: {now - self.__t_end}\")\n"
     ]
    },
    {
     "name": "stdout",
     "output_type": "stream",
     "text": [
      "50: [-0.48154615 -0.68462686  0.05514626]\n",
      "51: [0.12280985 0.51096953 0.76775031]\n",
      "52: [-0.37588351 -0.06621553  0.61809171]\n",
      "53: [ 0.62482986 -0.62399741  0.99884072]\n",
      "54: [-0.8330659   0.45110871  0.97364296]\n",
      "55: [ 0.35703001 -0.36764573 -0.57295068]\n",
      "56: [-0.99528487  0.64546282  0.05669195]\n",
      "57: [-0.76219221  0.29853085  0.74730765]\n",
      "58: [ 0.95703037 -0.79963862  0.70787622]\n",
      "59: [-0.83730917 -0.45057231 -0.09404363]\n",
      "60: [ 0.72271981 -0.73315889  0.04173106]\n",
      "61: [-0.30589397  0.74372767 -0.44318037]\n",
      "62: [-0.91867345  0.36199354  0.11671147]\n"
     ]
    },
    {
     "name": "stderr",
     "output_type": "stream",
     "text": [
      "c:\\Users\\Chris\\AppData\\Local\\Programs\\Python\\Python37\\lib\\site-packages\\rtgym\\envs\\real_time_env.py:379: UserWarning: Time-step timed out. Elapsed since last time-step: 0.056108100008714246\n",
      "  warnings.warn(f\"Time-step timed out. Elapsed since last time-step: {now - self.__t_end}\")\n"
     ]
    },
    {
     "name": "stdout",
     "output_type": "stream",
     "text": [
      "63: [ 0.8768776   0.81970235 -0.91599094]\n",
      "64: [0.40264964 0.31072373 0.42471531]\n",
      "65: [ 0.2802824  -0.25510147  0.07585757]\n",
      "66: [ 0.17425101 -0.98220584 -0.69795365]\n",
      "67: [ 0.57924632  0.43699885 -0.32348806]\n",
      "68: [-0.02276239  0.1697774   0.35860513]\n",
      "69: [-0.26333709  0.97691812 -0.47816693]\n",
      "70: [-0.13755795 -0.28295924 -0.8722841 ]\n"
     ]
    },
    {
     "name": "stderr",
     "output_type": "stream",
     "text": [
      "c:\\Users\\Chris\\AppData\\Local\\Programs\\Python\\Python37\\lib\\site-packages\\rtgym\\envs\\real_time_env.py:379: UserWarning: Time-step timed out. Elapsed since last time-step: 23.04920650000713\n",
      "  warnings.warn(f\"Time-step timed out. Elapsed since last time-step: {now - self.__t_end}\")\n",
      "c:\\Users\\Chris\\AppData\\Local\\Programs\\Python\\Python37\\lib\\site-packages\\rtgym\\envs\\real_time_env.py:379: UserWarning: Time-step timed out. Elapsed since last time-step: 0.06177480000042124\n",
      "  warnings.warn(f\"Time-step timed out. Elapsed since last time-step: {now - self.__t_end}\")\n"
     ]
    },
    {
     "name": "stdout",
     "output_type": "stream",
     "text": [
      "71: [ 0.4040083   0.80602142 -0.09677641]\n",
      "72: [ 0.73739102 -0.07852981 -0.25735626]\n",
      "73: [ 0.05961532 -0.93276397 -0.81870622]\n",
      "74: [ 0.03599672  0.20028457 -0.84728378]\n",
      "75: [ 0.50923653 -0.42067172  0.80227744]\n"
     ]
    },
    {
     "name": "stderr",
     "output_type": "stream",
     "text": [
      "c:\\Users\\Chris\\AppData\\Local\\Programs\\Python\\Python37\\lib\\site-packages\\rtgym\\envs\\real_time_env.py:379: UserWarning: Time-step timed out. Elapsed since last time-step: 22.80655509999997\n",
      "  warnings.warn(f\"Time-step timed out. Elapsed since last time-step: {now - self.__t_end}\")\n",
      "c:\\Users\\Chris\\AppData\\Local\\Programs\\Python\\Python37\\lib\\site-packages\\rtgym\\envs\\real_time_env.py:379: UserWarning: Time-step timed out. Elapsed since last time-step: 0.058508800004346995\n",
      "  warnings.warn(f\"Time-step timed out. Elapsed since last time-step: {now - self.__t_end}\")\n"
     ]
    },
    {
     "name": "stdout",
     "output_type": "stream",
     "text": [
      "76: [-0.77800615 -0.87967834  0.40163485]\n",
      "77: [0.86783104 0.30094436 0.93897084]\n",
      "78: [-0.40722722  0.69826311  0.91693815]\n",
      "79: [-0.41239293  0.49156821  0.91509373]\n"
     ]
    },
    {
     "name": "stderr",
     "output_type": "stream",
     "text": [
      "c:\\Users\\Chris\\AppData\\Local\\Programs\\Python\\Python37\\lib\\site-packages\\rtgym\\envs\\real_time_env.py:379: UserWarning: Time-step timed out. Elapsed since last time-step: 22.21134510000047\n",
      "  warnings.warn(f\"Time-step timed out. Elapsed since last time-step: {now - self.__t_end}\")\n"
     ]
    },
    {
     "name": "stdout",
     "output_type": "stream",
     "text": [
      "80: [-0.53901293 -0.26839505  0.19317807]\n",
      "81: [-0.9935358   0.31803698  0.46420295]\n",
      "82: [ 0.49595363 -0.41347409  0.37893295]\n"
     ]
    },
    {
     "name": "stderr",
     "output_type": "stream",
     "text": [
      "c:\\Users\\Chris\\AppData\\Local\\Programs\\Python\\Python37\\lib\\site-packages\\rtgym\\envs\\real_time_env.py:379: UserWarning: Time-step timed out. Elapsed since last time-step: 22.15091510000275\n",
      "  warnings.warn(f\"Time-step timed out. Elapsed since last time-step: {now - self.__t_end}\")\n"
     ]
    },
    {
     "name": "stdout",
     "output_type": "stream",
     "text": [
      "83: [-0.53427379 -0.71622513 -0.09190386]\n"
     ]
    },
    {
     "name": "stderr",
     "output_type": "stream",
     "text": [
      "c:\\Users\\Chris\\AppData\\Local\\Programs\\Python\\Python37\\lib\\site-packages\\rtgym\\envs\\real_time_env.py:379: UserWarning: Time-step timed out. Elapsed since last time-step: 0.06744710000202758\n",
      "  warnings.warn(f\"Time-step timed out. Elapsed since last time-step: {now - self.__t_end}\")\n"
     ]
    },
    {
     "name": "stdout",
     "output_type": "stream",
     "text": [
      "84: [-0.41337669 -0.05822492  0.90053666]\n",
      "85: [-0.44605951  0.11636318  0.37640061]\n",
      "86: [-0.10767123 -0.20244619  0.53528149]\n",
      "87: [-0.50408466 -0.09310594  0.87420929]\n"
     ]
    },
    {
     "name": "stderr",
     "output_type": "stream",
     "text": [
      "c:\\Users\\Chris\\AppData\\Local\\Programs\\Python\\Python37\\lib\\site-packages\\rtgym\\envs\\real_time_env.py:379: UserWarning: Time-step timed out. Elapsed since last time-step: 19.194571299998643\n",
      "  warnings.warn(f\"Time-step timed out. Elapsed since last time-step: {now - self.__t_end}\")\n"
     ]
    },
    {
     "name": "stdout",
     "output_type": "stream",
     "text": [
      "88: [ 0.25427938  0.06275161 -0.178391  ]\n",
      "Episode 1: 5.639999894425273\n",
      "0: [-0.19317425  0.55710052  0.57635485]\n",
      "1: [-0.25639135  0.25762181 -0.68586007]\n",
      "2: [-0.23714449  0.18212495 -0.7209338 ]\n"
     ]
    }
   ],
   "source": [
    "\n",
    "#model = CNN_Trackmania(image_height, image_width, num_images, keep_prob)\n",
    "# Let us retrieve the TMRL Gymnasium environment.\n",
    "# The environment you get from get_environment() depends on the content of config.json\n",
    "env = get_environment()\n",
    "agent = CNNAgent(state_size=6,action_size=3, seed=0) #State: speed, gear, rpm, x (4 images), act1, act2\n",
    "                                                     #Action: speed, gear, rpm between -1 and 1\n",
    "sleep(2)  # just so we have time to focus the TM20 window after starting the script\n",
    "\n",
    "\n",
    "eps_start = 1\n",
    "eps_end=0.01\n",
    "eps_decay=0.995\n",
    "scores = []\n",
    "scores_window = deque(maxlen=100)  # last 100 scores\n",
    "eps = eps_start\n",
    "for i_episode in range(1, 2000):\n",
    "    score = 0 #initialize episode score to 0\n",
    "    obs, info = env.reset() #get state when lunar lander is restarted\n",
    "    for _ in range(500):  # rtgym ensures this runs at 20Hz by default\n",
    "        #act = model(torch.from_numpy(obs[3]))  # compute action\n",
    "        #print(obs)\n",
    "        #print(obs)\n",
    "        #obs = np.asarray(obs).astype(np.float32)\n",
    "        act = agent.act(obs, eps)\n",
    "        #act = act.detach().numpy()\n",
    "        \n",
    "        act = np.array(act)\n",
    "        action = (act + np.random.normal(0, 1, size=3)).clip(-1, 1)\n",
    "        print(str(_) + \": \" + str(act))\n",
    "        next_obs, rew, terminated, truncated, info = env.step(act)  # step (rtgym ensures healthy time-steps)\n",
    "        agent.step(obs, act, rew, next_obs, terminated) #step agent and learn reward from given action\n",
    "        obs = next_obs\n",
    "        score += rew\n",
    "        if terminated or truncated:\n",
    "            break\n",
    "        \n",
    "    scores_window.append(score)       # save most recent score\n",
    "    scores.append(score)              # save most recent score\n",
    "    eps = max(eps_end, eps_decay*eps) # decrease epsilon\n",
    "    if np.mean(scores_window)>=200.0:\n",
    "            print('\\nEnvironment solved in {:d} episodes!\\tAverage Score: {:.2f}'.format(i_episode-100, np.mean(scores_window)))\n",
    "            torch.save(agent.qnetwork_local.state_dict(), 'checkpoint.pth')\n",
    "    print(\"Episode \" + str(i_episode) + \": \" + str(score))\n",
    "env.wait()  # rtgym-specific method to artificially 'pause' the environment when needed"
   ]
  },
  {
   "cell_type": "code",
   "execution_count": null,
   "metadata": {},
   "outputs": [],
   "source": [
    "print('State shape: ', env.observation_space.shape)\n",
    "print('Number of actions: ', env.action_space)\n"
   ]
  }
 ],
 "metadata": {
  "kernelspec": {
   "display_name": "Python 3",
   "language": "python",
   "name": "python3"
  },
  "language_info": {
   "codemirror_mode": {
    "name": "ipython",
    "version": 3
   },
   "file_extension": ".py",
   "mimetype": "text/x-python",
   "name": "python",
   "nbconvert_exporter": "python",
   "pygments_lexer": "ipython3",
   "version": "3.7.9"
  }
 },
 "nbformat": 4,
 "nbformat_minor": 2
}
